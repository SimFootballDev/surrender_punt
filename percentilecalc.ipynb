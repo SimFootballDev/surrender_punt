{
 "cells": [
  {
   "cell_type": "code",
   "execution_count": 27,
   "metadata": {},
   "outputs": [],
   "source": [
    "import pandas as pd\n",
    "import numpy as np\n",
    "import matplotlib.pyplot as plt"
   ]
  },
  {
   "cell_type": "code",
   "execution_count": 28,
   "metadata": {},
   "outputs": [],
   "source": [
    "from scipy.stats import percentileofscore as perc"
   ]
  },
  {
   "cell_type": "code",
   "execution_count": 29,
   "metadata": {},
   "outputs": [],
   "source": [
    "simpunts = pd.read_csv('allpunts.csv')"
   ]
  },
  {
   "cell_type": "code",
   "execution_count": 30,
   "metadata": {},
   "outputs": [],
   "source": [
    "simSurrender = simpunts['surrenderIndex']"
   ]
  },
  {
   "cell_type": "code",
   "execution_count": 31,
   "metadata": {},
   "outputs": [
    {
     "data": {
      "text/plain": [
       "98.42397336293008"
      ]
     },
     "execution_count": 31,
     "metadata": {},
     "output_type": "execute_result"
    }
   ],
   "source": [
    "perc(simSurrender,69.88)"
   ]
  },
  {
   "cell_type": "code",
   "execution_count": 106,
   "metadata": {},
   "outputs": [],
   "source": [
    "def scoreDiff(offScore,defScore):\n",
    "    return offScore - defScore"
   ]
  },
  {
   "cell_type": "code",
   "execution_count": 97,
   "metadata": {},
   "outputs": [],
   "source": [
    "def secSinceHalf(quarter,minute,second):\n",
    "    return 1800 - ((4-quarter)*15*60 + minute*60 + second)"
   ]
  },
  {
   "cell_type": "code",
   "execution_count": 98,
   "metadata": {},
   "outputs": [],
   "source": [
    "def fieldPosScore(side,yard):\n",
    "    if side == 'O':\n",
    "        dist2goal = 100-yard\n",
    "    elif side == 'D':\n",
    "        dist2goal = yard\n",
    "    else:\n",
    "        return \"dist2goal must be O or D\"\n",
    "    if dist2goal >= 60:\n",
    "        return 1.0\n",
    "    elif dist2goal >= 50:\n",
    "        return 1.1 ** (40 - dist2goal)\n",
    "    else:\n",
    "        return 1.1**10 * 1.2**(50 - dist2goal)"
   ]
  },
  {
   "cell_type": "code",
   "execution_count": 99,
   "metadata": {},
   "outputs": [],
   "source": [
    "def distScore(distance):\n",
    "    if int(distance) >= 10:\n",
    "        return 0.2\n",
    "    elif 7 <= distance <= 9:\n",
    "        return 0.4\n",
    "    elif 4 <= distance <= 6:\n",
    "        return 0.6\n",
    "    elif 2 <= distance <= 3:\n",
    "        return 0.8\n",
    "    else:\n",
    "        return 1.0"
   ]
  },
  {
   "cell_type": "code",
   "execution_count": 100,
   "metadata": {},
   "outputs": [],
   "source": [
    "def scoreDiffMult(pointdiff):\n",
    "    if pointdiff > 0:\n",
    "        return 1\n",
    "    elif pointdiff == 0:\n",
    "        return 2\n",
    "    elif pointdiff < -8:\n",
    "        return 3\n",
    "    else:\n",
    "        return 4"
   ]
  },
  {
   "cell_type": "code",
   "execution_count": 101,
   "metadata": {},
   "outputs": [],
   "source": [
    "def timeMult(offScore,defScore,quarter,minute,second):\n",
    "    sec = secSinceHalf(quarter,minute,second)\n",
    "    PD = scoreDiff(offScore,defScore)\n",
    "    \n",
    "    if PD <= 0 and sec >= 0:\n",
    "        return ((sec * 0.001)**3) + 1.\n",
    "    else:\n",
    "        return 1."
   ]
  },
  {
   "cell_type": "code",
   "execution_count": 108,
   "metadata": {},
   "outputs": [],
   "source": [
    "def surrenderIndex(offScore,defScore,quarter,minute,second,side,yard,distance):\n",
    "    pd = scoreDiff(offScore,defScore)\n",
    "    return fieldPosScore(side,yard) * distScore(distance) * scoreDiffMult(pd) * timeMult(offScore,defScore,quarter,minute,second)"
   ]
  },
  {
   "cell_type": "code",
   "execution_count": 109,
   "metadata": {},
   "outputs": [],
   "source": [
    "def surrenderSim(offScore,defScore,quarter,minute,second,side,yard,distance,csvFile):\n",
    "    surrenderI = surrenderIndex(offScore,defScore,quarter,minute,second,side,yard,distance)\n",
    "    simPunts = pd.read_csv(csvFile)['surrenderIndex']\n",
    "    percentile = perc(simPunts,surrenderI)\n",
    "    return surrenderI,percentile"
   ]
  },
  {
   "cell_type": "code",
   "execution_count": 110,
   "metadata": {},
   "outputs": [
    {
     "data": {
      "text/plain": [
       "1523"
      ]
     },
     "execution_count": 110,
     "metadata": {},
     "output_type": "execute_result"
    }
   ],
   "source": [
    "secSinceHalf(4,4,37)"
   ]
  },
  {
   "cell_type": "code",
   "execution_count": 120,
   "metadata": {},
   "outputs": [
    {
     "data": {
      "text/plain": [
       "(279.5258771923, 99.80022197558269)"
      ]
     },
     "execution_count": 120,
     "metadata": {},
     "output_type": "execute_result"
    }
   ],
   "source": [
    "offScore = 27\n",
    "defScore = 33\n",
    "side = 'D'\n",
    "yard = 39\n",
    "distance = 3\n",
    "quarter = 4\n",
    "minute = 4\n",
    "second = 37\n",
    "csvFile = 'allpunts.csv'\n",
    "surrenderSim(offScore,defScore,quarter,minute,second,side,yard,distance,csvFile)"
   ]
  },
  {
   "cell_type": "code",
   "execution_count": null,
   "metadata": {},
   "outputs": [],
   "source": []
  }
 ],
 "metadata": {
  "kernelspec": {
   "display_name": "Python 3",
   "language": "python",
   "name": "python3"
  },
  "language_info": {
   "codemirror_mode": {
    "name": "ipython",
    "version": 3
   },
   "file_extension": ".py",
   "mimetype": "text/x-python",
   "name": "python",
   "nbconvert_exporter": "python",
   "pygments_lexer": "ipython3",
   "version": "3.7.3"
  }
 },
 "nbformat": 4,
 "nbformat_minor": 2
}
